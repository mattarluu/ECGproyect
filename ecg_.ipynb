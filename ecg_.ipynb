{
 "cells": [
  {
   "cell_type": "code",
   "execution_count": 122,
   "id": "1ff3382e",
   "metadata": {},
   "outputs": [],
   "source": [
    "import wfdb\n",
    "import numpy as np\n",
    "import pandas as pd\n",
    "import glob\n",
    "import os\n",
    "from scipy.signal import resample\n",
    "import neurokit2 as nk\n",
    "from scipy.signal import find_peaks\n",
    "import matplotlib.pyplot as plt"
   ]
  },
  {
   "cell_type": "code",
   "execution_count": 2,
   "id": "75f2e6b9",
   "metadata": {},
   "outputs": [],
   "source": [
    "# Code to load all the signals\n",
    "basePath=\"ECG_Database\"\n",
    "\n",
    "## List files and folders insade basePath\n",
    "patDir = sorted(\n",
    "    [f.path for f in os.scandir(basePath) if f.is_dir()],\n",
    "    key=lambda x: int(os.path.basename(x).replace(\"patient\", \"\"))  # Extraer el número de paciente\n",
    ")\n",
    "\n",
    "## Dictionary to store each patient's records\n",
    "patDict = {}\n",
    "\n",
    "def generateName(i, extension):\n",
    "        return f\"record{i:03d}{extension}\" \n",
    "\n",
    "for patient in patDir:\n",
    "    patID=os.path.basename(patient) # patID = directory name\n",
    "    archivos = os.listdir(patient)\n",
    "\n",
    "    # Create 3 lists, one for each file type \n",
    "    dat = [f for f in archivos if f.endswith(\".dat\")]\n",
    "    hea = [f for f in archivos if f.endswith(\".hea\")]\n",
    "    xyz = [f for f in archivos if f.endswith(\".xyz\")]\n",
    "\n",
    "    # Rename the files for clarity\n",
    "    \n",
    "    import os\n",
    "\n",
    "    # Agrupar los archivos por nombre base y asignarles un número secuencial\n",
    "    allFiles = []\n",
    "    \n",
    "    # Agrupar los archivos con el mismo nombre base\n",
    "    for f in dat + hea + xyz: \n",
    "        allFiles.append(f)  # Asignar el nuevo nombre\n",
    "\n",
    "    patDict[patID] = {\"files\": allFiles}"
   ]
  },
  {
   "cell_type": "code",
   "execution_count": null,
   "id": "07502d2c",
   "metadata": {},
   "outputs": [],
   "source": [
    "for patient, data in patDict.items():\n",
    "    print(f\"Paciente: {patient}\")\n",
    "    \n",
    "    # Imprimir los archivos del paciente\n",
    "    if \"files\" in data:\n",
    "        print(\"Archivos:\", \", \".join(data[\"files\"]))\n",
    "    else:\n",
    "        print(\"No hay archivos registrados.\")\n",
    "    \n",
    "    print(\"-\" * 40)"
   ]
  },
  {
   "cell_type": "code",
   "execution_count": 134,
   "id": "c496b805",
   "metadata": {},
   "outputs": [],
   "source": [
    "def get_heart_rate(file_base):\n",
    "    record = wfdb.rdrecord(file_base)\n",
    "    signal = record.p_signal[:, 0]\n",
    "    fs = record.fs\n",
    "    _, rpeaks = nk.ecg_peaks(signal, sampling_rate=fs)\n",
    "    hr = nk.ecg_rate(rpeaks, sampling_rate=fs)\n",
    "    return np.mean(hr)\n"
   ]
  },
  {
   "cell_type": "code",
   "execution_count": 135,
   "id": "3d6fd751",
   "metadata": {},
   "outputs": [],
   "source": [
    "def get_rr_std(file_base):\n",
    "    record = wfdb.rdrecord(file_base)\n",
    "    signal = record.p_signal[:, 0]\n",
    "    fs = record.fs\n",
    "    _, rpeaks = nk.ecg_peaks(signal, sampling_rate=fs)\n",
    "    rr_intervals = np.diff(rpeaks[\"ECG_R_Peaks\"]) / fs\n",
    "    return np.std(rr_intervals)"
   ]
  },
  {
   "cell_type": "code",
   "execution_count": 145,
   "id": "5384d10f",
   "metadata": {},
   "outputs": [],
   "source": [
    "def get_qrs_duration(file_base):\n",
    "    record = wfdb.rdrecord(file_base)\n",
    "    signal = record.p_signal[:, 0]\n",
    "    fs = record.fs\n",
    "    cleaned = nk.ecg_clean(signal, sampling_rate=fs)\n",
    "    _, rpeaks = nk.ecg_peaks(cleaned, sampling_rate=fs)\n",
    "    delineate = nk.ecg_delineate(cleaned, rpeaks, sampling_rate=fs, method=\"dwt\", show=False)\n",
    "    q_peaks = np.array(delineate[1][\"ECG_Q_Peaks\"])\n",
    "    s_peaks = np.array(delineate[1][\"ECG_S_Peaks\"])\n",
    "    \n",
    "    durations = (s_peaks - q_peaks) / fs\n",
    "    durations = durations[~np.isnan(durations)]\n",
    "    \n",
    "    return np.mean(durations) if len(durations) > 0 else np.nan"
   ]
  },
  {
   "cell_type": "code",
   "execution_count": 146,
   "id": "aad25036",
   "metadata": {},
   "outputs": [
    {
     "name": "stdout",
     "output_type": "stream",
     "text": [
      "{'method_peaks': 'neurokit', 'method_fixpeaks': 'None', 'ECG_R_Peaks': array([  642,  1387,  2114,  2841,  3586,  4327,  5057,  5799,  6543,\n",
      "        7265,  7991,  8727,  9451, 10162, 10885, 11612, 12332, 13049,\n",
      "       13783, 14524, 15252, 15979, 16719, 17457, 18181, 18911, 19650,\n",
      "       20381, 21098, 21832, 22569, 23295, 24019, 24757, 25490, 26214,\n",
      "       26954, 27697, 28431, 29162, 29909, 30655, 31386, 32125, 32875,\n",
      "       33617, 34348, 35096, 35853, 36587, 37317, 38064]), 'sampling_rate': 1000}\n"
     ]
    }
   ],
   "source": [
    "basePath = \"patient001\"\n",
    "file_path = os.path.join(basePath, \"s0010_re.dat\")\n",
    "file_base = os.path.splitext(file_path)[0]\n",
    "record = wfdb.rdrecord(file_base)\n",
    "signal = record.p_signal[:, 0]\n",
    "fs = record.fs\n",
    "cleaned = nk.ecg_clean(signal, sampling_rate=fs)\n",
    "_, rpeaks = nk.ecg_peaks(cleaned, sampling_rate=fs)\n",
    "delineate = nk.ecg_delineate(cleaned, rpeaks, sampling_rate=fs, method=\"dwt\", show=False)\n",
    "print(rpeaks)"
   ]
  },
  {
   "cell_type": "code",
   "execution_count": 148,
   "id": "0ffe9c5d",
   "metadata": {},
   "outputs": [],
   "source": [
    "def get_qt_interval(file_base):\n",
    "    record = wfdb.rdrecord(file_base)\n",
    "    signal = record.p_signal[:, 0]\n",
    "    fs = record.fs\n",
    "    cleaned = nk.ecg_clean(signal, sampling_rate=fs)\n",
    "    _, rpeaks = nk.ecg_peaks(cleaned, sampling_rate=fs)\n",
    "    delineate = nk.ecg_delineate(cleaned, rpeaks, sampling_rate=fs, method=\"dwt\", show=False)\n",
    "    \n",
    "    q_peaks = np.array(delineate[1][\"ECG_Q_Peaks\"])\n",
    "    t_offsets = np.array(delineate[1][\"ECG_T_Offsets\"])\n",
    "    \n",
    "    qt = (t_offsets - q_peaks) / fs\n",
    "    qt = qt[~np.isnan(qt)]\n",
    "    \n",
    "    return np.mean(qt) if len(qt) > 0 else np.nan"
   ]
  },
  {
   "cell_type": "code",
   "execution_count": 149,
   "id": "4a89f379",
   "metadata": {},
   "outputs": [],
   "source": [
    "def get_qtc_bazett(file_base):\n",
    "    record = wfdb.rdrecord(file_base)\n",
    "    signal = record.p_signal[:, 0]\n",
    "    fs = record.fs\n",
    "    qt = get_qt_interval(file_base)\n",
    "    _, rpeaks = nk.ecg_peaks(signal, sampling_rate=fs)\n",
    "    rr = np.diff(rpeaks[\"ECG_R_Peaks\"]) / fs\n",
    "    rr_mean = np.mean(rr)\n",
    "    \n",
    "    if qt is not None and rr_mean > 0:\n",
    "        return qt / np.sqrt(rr_mean)\n",
    "    return np.nan"
   ]
  },
  {
   "cell_type": "code",
   "execution_count": 155,
   "id": "27a12400",
   "metadata": {},
   "outputs": [],
   "source": [
    "def get_p_duration(file_base):\n",
    "    record = wfdb.rdrecord(file_base)\n",
    "    signal = record.p_signal[:, 0]\n",
    "    fs = record.fs\n",
    "    cleaned = nk.ecg_clean(signal, sampling_rate=fs)\n",
    "    _, rpeaks = nk.ecg_peaks(cleaned, sampling_rate=fs)\n",
    "    delineate = nk.ecg_delineate(cleaned, rpeaks, sampling_rate=fs, method=\"dwt\", show=False)\n",
    "    \n",
    "    p_onsets = np.array(delineate[1][\"ECG_P_Onsets\"])\n",
    "    p_offsets = np.array(delineate[1][\"ECG_P_Offsets\"])\n",
    "    \n",
    "    durations = (p_offsets - p_onsets) / fs\n",
    "    durations = durations[~np.isnan(durations)]\n",
    "    \n",
    "    return np.mean(durations) if len(durations) > 0 else np.nan\n"
   ]
  },
  {
   "cell_type": "code",
   "execution_count": 151,
   "id": "599a51eb",
   "metadata": {},
   "outputs": [],
   "source": [
    "def get_pr_interval(file_base):\n",
    "    record = wfdb.rdrecord(file_base)\n",
    "    signal = record.p_signal[:, 0]\n",
    "    fs = record.fs\n",
    "    cleaned = nk.ecg_clean(signal, sampling_rate=fs)\n",
    "    _, rpeaks = nk.ecg_peaks(cleaned, sampling_rate=fs)\n",
    "    delineate = nk.ecg_delineate(cleaned, rpeaks, sampling_rate=fs, method=\"dwt\", show=False)\n",
    "    \n",
    "    p_onsets = np.array(delineate[1][\"ECG_P_Onsets\"])\n",
    "    q_peaks = np.array(delineate[1][\"ECG_Q_Peaks\"])\n",
    "    \n",
    "    pr = (q_peaks - p_onsets) / fs\n",
    "    pr = pr[~np.isnan(pr)]\n",
    "    \n",
    "    return np.mean(pr) if len(pr) > 0 else np.nan\n"
   ]
  },
  {
   "cell_type": "code",
   "execution_count": 152,
   "id": "b38fe68b",
   "metadata": {},
   "outputs": [],
   "source": [
    "def extract_all_features(file_base):\n",
    "    \n",
    "    return {\n",
    "        \"heart_rate_mean\": get_heart_rate(file_base),\n",
    "        \"rr_std\": get_rr_std(file_base),\n",
    "        \"qrs_duration\": get_qrs_duration(file_base),\n",
    "        \"qt_interval\": get_qt_interval(file_base),\n",
    "        \"qtc_bazett\": get_qtc_bazett(file_base),\n",
    "        \"p_duration\": get_p_duration(file_base),\n",
    "        \"pr_interval\": get_pr_interval(file_base)\n",
    "    }"
   ]
  },
  {
   "cell_type": "code",
   "execution_count": 153,
   "id": "4567a10f",
   "metadata": {},
   "outputs": [],
   "source": [
    "\n",
    "def extract(file_base):\n",
    "    record = wfdb.rdrecord(file_base)\n",
    "    signal = record.p_signal[:, 0]\n",
    "    fs = record.fs\n",
    "    _, processed = nk.ecg_process(signal, sampling_rate=fs)\n",
    "    \n",
    "    return type(processed[1])\n",
    "    "
   ]
  },
  {
   "cell_type": "code",
   "execution_count": null,
   "id": "13d0fe7a",
   "metadata": {},
   "outputs": [
    {
     "name": "stdout",
     "output_type": "stream",
     "text": [
      "features of (patient001) record (s0010_re.dat): {'heart_rate_mean': np.float64(81.79366481231452), 'rr_std': np.float64(0.00921138823427905), 'qrs_duration': np.float64(0.08950980392156861), 'qt_interval': np.float64(0.39886274509803926), 'qtc_bazett': np.float64(0.46566551783780247), 'p_duration': np.float64(0.08486538461538462), 'pr_interval': np.float64(0.14431372549019608)}\n",
      "features of (patient001) record (s0014lre.dat): {'heart_rate_mean': np.float64(74.9927829500251), 'rr_std': np.float64(0.743219920511232), 'qrs_duration': np.float64(0.09385975609756096), 'qt_interval': np.float64(0.37481097560975607), 'qtc_bazett': np.float64(0.38079783319749), 'p_duration': np.float64(0.08854545454545454), 'pr_interval': np.float64(0.1511951219512195)}\n",
      "features of (patient001) record (s0016lre.dat): {'heart_rate_mean': np.float64(72.16485075487367), 'rr_std': np.float64(0.6632020373389688), 'qrs_duration': np.float64(0.0997236842105263), 'qt_interval': np.float64(0.3848874172185431), 'qtc_bazett': np.float64(0.39046789959033257), 'p_duration': np.float64(0.07383006535947712), 'pr_interval': np.float64(0.1493157894736842)}\n",
      "features of (patient002) record (s0015lre.dat): {'heart_rate_mean': np.float64(78.65878283683398), 'rr_std': np.float64(0.06632904343206296), 'qrs_duration': np.float64(0.0645), 'qt_interval': np.float64(0.26904), 'qtc_bazett': np.float64(0.30740709380791187), 'p_duration': np.float64(0.07173509933774835), 'pr_interval': np.float64(0.11075333333333333)}\n",
      "features of (patient003) record (s0017lre.dat): {'heart_rate_mean': np.float64(72.33928456377973), 'rr_std': np.float64(0.022685511363169965), 'qrs_duration': np.float64(0.1050948905109489), 'qt_interval': np.float64(0.38375182481751824), 'qtc_bazett': np.float64(0.42120938605953573), 'p_duration': np.float64(0.09971739130434783), 'pr_interval': np.float64(0.1619124087591241)}\n",
      "features of (patient004) record (s0020are.dat): {'heart_rate_mean': np.float64(82.5540538811352), 'rr_std': np.float64(0.011192820937419733), 'qrs_duration': np.float64(0.14567515923566882), 'qt_interval': np.float64(0.265656050955414), 'qtc_bazett': np.float64(0.31157458098516505), 'p_duration': np.float64(0.09126582278481012), 'pr_interval': np.float64(0.17450955414012737)}\n",
      "features of (patient004) record (s0020bre.dat): {'heart_rate_mean': np.float64(81.00197840544004), 'rr_std': np.float64(0.010471173354104371), 'qrs_duration': np.float64(0.13367105263157894), 'qt_interval': np.float64(0.2933246753246753), 'qtc_bazett': np.float64(0.34078271290334866), 'p_duration': np.float64(0.09674838709677419), 'pr_interval': np.float64(0.18266883116883117)}\n",
      "features of (patient005) record (s0021are.dat): {'heart_rate_mean': np.float64(96.54578583251252), 'rr_std': np.float64(0.10457550478759904), 'qrs_duration': np.float64(0.06414917127071823), 'qt_interval': np.float64(0.19220786516853933), 'qtc_bazett': np.float64(0.24197672117129182), 'p_duration': np.float64(0.08502717391304347), 'pr_interval': np.float64(0.11181215469613259)}\n",
      "features of (patient005) record (s0021bre.dat): {'heart_rate_mean': np.float64(96.4695645026537), 'rr_std': np.float64(0.059851785232157693), 'qrs_duration': np.float64(0.06539226519337017), 'qt_interval': np.float64(0.19260773480662988), 'qtc_bazett': np.float64(0.24276940975884045), 'p_duration': np.float64(0.08941758241758242), 'pr_interval': np.float64(0.11646961325966851)}\n",
      "features of (patient005) record (s0025lre.dat): {'heart_rate_mean': np.float64(103.69712741555799), 'rr_std': np.float64(0.036786327474298865), 'qrs_duration': np.float64(0.061791878172588834), 'qt_interval': np.float64(0.20239086294416242), 'qtc_bazett': np.float64(0.26549558778366883), 'p_duration': np.float64(0.08435542168674699), 'pr_interval': np.float64(0.15487272727272727)}\n",
      "features of (patient005) record (s0031lre.dat): {'heart_rate_mean': np.float64(92.38650447295115), 'rr_std': np.float64(0.05752483020950905), 'qrs_duration': np.float64(0.06133333333333334), 'qt_interval': np.float64(0.20360344827586208), 'qtc_bazett': np.float64(0.25163067195243166), 'p_duration': np.float64(0.08267428571428571), 'pr_interval': np.float64(0.11909770114942528)}\n",
      "features of (patient005) record (s0101lre.dat): {'heart_rate_mean': np.float64(68.48351254817766), 'rr_std': np.float64(0.11178358405822832), 'qrs_duration': np.float64(0.05860975609756098), 'qt_interval': np.float64(0.23010569105691056), 'qtc_bazett': np.float64(0.24231349153578277), 'p_duration': np.float64(0.06423387096774195), 'pr_interval': np.float64(0.1563739837398374)}\n",
      "features of (patient006) record (s0022lre.dat): {'heart_rate_mean': np.float64(92.02986090335463), 'rr_std': np.float64(0.02161971435934323), 'qrs_duration': np.float64(0.13787428571428573), 'qt_interval': np.float64(0.37196), 'qtc_bazett': np.float64(0.460417465826538), 'p_duration': np.float64(0.09178409090909091), 'pr_interval': np.float64(0.1089657142857143)}\n",
      "features of (patient006) record (s0027lre.dat): {'heart_rate_mean': np.float64(80.81881792607273), 'rr_std': np.float64(0.0153249284592785), 'qrs_duration': np.float64(0.14817532467532468), 'qt_interval': np.float64(0.3567662337662338), 'qtc_bazett': np.float64(0.41397379915153887), 'p_duration': np.float64(0.08738709677419354), 'pr_interval': np.float64(0.10905194805194804)}\n",
      "features of (patient006) record (s0064lre.dat): {'heart_rate_mean': np.float64(77.8842305730466), 'rr_std': np.float64(0.03237151584880078), 'qrs_duration': np.float64(0.1559662162162162), 'qt_interval': np.float64(0.3843108108108108), 'qtc_bazett': np.float64(0.43749279000904856), 'p_duration': np.float64(0.06678523489932886), 'pr_interval': np.float64(0.09068918918918917)}\n",
      "features of (patient007) record (s0026lre.dat): {'heart_rate_mean': np.float64(74.2354098079642), 'rr_std': np.float64(0.02381673908220925), 'qrs_duration': np.float64(0.06448936170212766), 'qt_interval': np.float64(0.24235460992907798), 'qtc_bazett': np.float64(0.269459908354117), 'p_duration': np.float64(0.09898591549295774), 'pr_interval': np.float64(0.1474255319148936)}\n",
      "features of (patient007) record (s0029lre.dat): {'heart_rate_mean': np.float64(71.31490781098516), 'rr_std': np.float64(0.030063659937439743), 'qrs_duration': np.float64(0.10626666666666666), 'qt_interval': np.float64(0.2434444444444444), 'qtc_bazett': np.float64(0.2652421859760944), 'p_duration': np.float64(0.10065441176470587), 'pr_interval': np.float64(0.14453333333333335)}\n",
      "features of (patient007) record (s0038lre.dat): {'heart_rate_mean': np.float64(67.74837303776465), 'rr_std': np.float64(0.31393544651090294), 'qrs_duration': np.float64(0.08666153846153846), 'qt_interval': np.float64(0.2963), 'qtc_bazett': np.float64(0.3103286490503223), 'p_duration': np.float64(0.10348091603053433), 'pr_interval': np.float64(0.13210000000000002)}\n",
      "features of (patient007) record (s0078lre.dat): {'heart_rate_mean': np.float64(53.26779937856019), 'rr_std': np.float64(0.055765648028154396), 'qrs_duration': np.float64(0.14100000000000004), 'qt_interval': np.float64(0.34188349514563104), 'qtc_bazett': np.float64(0.3217379688469926), 'p_duration': np.float64(0.11202884615384615), 'pr_interval': np.float64(0.1423106796116505)}\n",
      "features of (patient008) record (s0028lre.dat): {'heart_rate_mean': np.float64(59.80416898683845), 'rr_std': np.float64(0.08590857258963017), 'qrs_duration': np.float64(0.12194642857142858), 'qt_interval': np.float64(0.40171428571428575), 'qtc_bazett': np.float64(0.39931490893317967), 'p_duration': np.float64(0.07207964601769912), 'pr_interval': np.float64(0.18372321428571428)}\n",
      "features of (patient008) record (s0037lre.dat): {'heart_rate_mean': np.float64(66.49621475910313), 'rr_std': np.float64(0.08949123600409183), 'qrs_duration': np.float64(0.11219672131147541), 'qt_interval': np.float64(0.41622131147540986), 'qtc_bazett': np.float64(0.4338076416542489), 'p_duration': np.float64(0.0623658536585366), 'pr_interval': np.float64(0.16217213114754098)}\n",
      "features of (patient008) record (s0068lre.dat): {'heart_rate_mean': np.float64(60.55974723886407), 'rr_std': np.float64(0.11015688411614064), 'qrs_duration': np.float64(0.12443362831858407), 'qt_interval': np.float64(0.4017699115044248), 'qtc_bazett': np.float64(0.4005752843778224), 'p_duration': np.float64(0.08155263157894739), 'pr_interval': np.float64(0.19729203539823006)}\n"
     ]
    },
    {
     "name": "stderr",
     "output_type": "stream",
     "text": [
      "C:\\Users\\Mattin\\AppData\\Local\\Packages\\PythonSoftwareFoundation.Python.3.11_qbz5n2kfra8p0\\LocalCache\\local-packages\\Python311\\site-packages\\neurokit2\\signal\\signal_period.py:84: NeuroKitWarning: Too few peaks detected to compute the rate. Returning empty vector.\n",
      "  warn(\n"
     ]
    },
    {
     "name": "stdout",
     "output_type": "stream",
     "text": [
      "features of (patient009) record (s0035_re.dat): {'heart_rate_mean': np.float64(nan), 'rr_std': np.float64(1.726), 'qrs_duration': np.float64(0.09565909090909092), 'qt_interval': np.float64(0.3468409090909091), 'qtc_bazett': np.float64(0.22172431976644377), 'p_duration': np.float64(0.07057777777777778), 'pr_interval': np.float64(0.09518181818181817)}\n",
      "features of (patient010) record (s0036lre.dat): {'heart_rate_mean': np.float64(89.43564949448842), 'rr_std': np.float64(0.027576461177472797), 'qrs_duration': np.float64(0.03258064516129033), 'qt_interval': np.float64(0.3243058823529412), 'qtc_bazett': np.float64(0.39557631136120497), 'p_duration': np.float64(0.09440935672514619), 'pr_interval': np.float64(0.1842529411764706)}\n",
      "features of (patient010) record (s0042lre.dat): {'heart_rate_mean': np.float64(78.89557959869504), 'rr_std': np.float64(0.012844369280825836), 'qrs_duration': np.float64(0.04073999999999999), 'qt_interval': np.float64(0.2992133333333334), 'qtc_bazett': np.float64(0.34306027242885084), 'p_duration': np.float64(0.10493999999999999), 'pr_interval': np.float64(0.19952348993288593)}\n",
      "features of (patient010) record (s0061lre.dat): {'heart_rate_mean': np.float64(86.52292324668736), 'rr_std': np.float64(0.010124495928909663), 'qrs_duration': np.float64(0.04278181818181817), 'qt_interval': np.float64(0.2724), 'qtc_bazett': np.float64(0.32707749549574133), 'p_duration': np.float64(0.10783132530120482), 'pr_interval': np.float64(0.18415151515151515)}\n",
      "features of (patient011) record (s0039lre.dat): {'heart_rate_mean': np.float64(90.4765048828854), 'rr_std': np.float64(0.013886999028688217), 'qrs_duration': np.float64(0.08093063583815027), 'qt_interval': np.float64(0.35320231213872827), 'qtc_bazett': np.float64(0.43362983461441285), 'p_duration': np.float64(0.08749132947976879), 'pr_interval': np.float64(0.10731395348837208)}\n",
      "features of (patient011) record (s0044lre.dat): {'heart_rate_mean': np.float64(79.42981021982841), 'rr_std': np.float64(0.07550323818037084), 'qrs_duration': np.float64(0.08161744966442953), 'qt_interval': np.float64(0.3656845637583892), 'qtc_bazett': np.float64(0.41869322806612236), 'p_duration': np.float64(0.08568666666666665), 'pr_interval': np.float64(0.11187248322147654)}\n",
      "features of (patient011) record (s0049lre.dat): {'heart_rate_mean': np.float64(88.43897447972465), 'rr_std': np.float64(0.0140012438202732), 'qrs_duration': np.float64(0.08165476190476191), 'qt_interval': np.float64(0.3693214285714286), 'qtc_bazett': np.float64(0.44829005782542714), 'p_duration': np.float64(0.08615976331360944), 'pr_interval': np.float64(0.10648214285714287)}\n",
      "features of (patient011) record (s0067lre.dat): {'heart_rate_mean': np.float64(66.42610284471458), 'rr_std': np.float64(0.026230809429405713), 'qrs_duration': np.float64(0.0821764705882353), 'qt_interval': np.float64(0.3755882352941176), 'qtc_bazett': np.float64(0.3950150437527715), 'p_duration': np.float64(0.08874285714285712), 'pr_interval': np.float64(0.1097058823529412)}\n",
      "features of (patient012) record (s0043lre.dat): {'heart_rate_mean': np.float64(52.37980120481976), 'rr_std': np.float64(0.03590738085686561), 'qrs_duration': np.float64(0.10924999999999999), 'qt_interval': np.float64(0.45648000000000005), 'qtc_bazett': np.float64(0.4263004446089441), 'p_duration': np.float64(0.10359999999999997), 'pr_interval': np.float64(0.15224242424242426)}\n",
      "features of (patient012) record (s0050lre.dat): {'heart_rate_mean': np.float64(63.43953051468966), 'rr_std': np.float64(0.016364969362092356), 'qrs_duration': np.float64(0.11979999999999999), 'qt_interval': np.float64(0.4117), 'qtc_bazett': np.float64(0.42327244464848335), 'p_duration': np.float64(0.10085950413223141), 'pr_interval': np.float64(0.14110833333333334)}\n",
      "features of (patient013) record (s0045lre.dat): {'heart_rate_mean': np.float64(85.33327593726581), 'rr_std': np.float64(0.005317252627559472), 'qrs_duration': np.float64(0.13707361963190182), 'qt_interval': np.float64(0.36471779141104294), 'qtc_bazett': np.float64(0.43493877559335836), 'p_duration': np.float64(0.08650609756097559), 'pr_interval': np.float64(0.10395092024539875)}\n",
      "features of (patient013) record (s0051lre.dat): {'heart_rate_mean': np.float64(83.03043165940737), 'rr_std': np.float64(0.011076694369157834), 'qrs_duration': np.float64(0.14447133757961786), 'qt_interval': np.float64(0.31916666666666665), 'qtc_bazett': np.float64(0.3754129213575048), 'p_duration': np.float64(0.06383647798742137), 'pr_interval': np.float64(0.09572784810126582)}\n",
      "features of (patient013) record (s0072lre.dat): {'heart_rate_mean': np.float64(88.67359868904286), 'rr_std': np.float64(0.008307886172488092), 'qrs_duration': np.float64(0.10852071005917158), 'qt_interval': np.float64(0.35674556213017755), 'qtc_bazett': np.float64(0.4336584065124094), 'p_duration': np.float64(0.06455882352941178), 'pr_interval': np.float64(0.0944437869822485)}\n"
     ]
    }
   ],
   "source": [
    "for patient_id, data in patDict.items():\n",
    "    archivos = data[\"files\"]\n",
    "    dat_files = [f for f in archivos if f.endswith(\".dat\")]\n",
    "    hea_files = [f for f in archivos if f.endswith(\".hea\")]\n",
    "    i=0\n",
    "    for archivo in dat_files:\n",
    "        basePath = \"ECG_Database\"\n",
    "        file_path = os.path.join(basePath, patient_id, archivo)\n",
    "        file_base = os.path.splitext(file_path)[0]\n",
    "        features = extract_all_features(file_base)\n",
    "        print(f\"features of ({patient_id}) record ({archivo}):\", features)\n",
    "        "
   ]
  }
 ],
 "metadata": {
  "kernelspec": {
   "display_name": "Python 3",
   "language": "python",
   "name": "python3"
  },
  "language_info": {
   "codemirror_mode": {
    "name": "ipython",
    "version": 3
   },
   "file_extension": ".py",
   "mimetype": "text/x-python",
   "name": "python",
   "nbconvert_exporter": "python",
   "pygments_lexer": "ipython3",
   "version": "3.11.9"
  }
 },
 "nbformat": 4,
 "nbformat_minor": 5
}

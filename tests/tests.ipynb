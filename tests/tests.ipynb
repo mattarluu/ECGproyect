{
 "cells": [
  {
   "cell_type": "code",
   "execution_count": 1,
   "id": "feb90ad0",
   "metadata": {},
   "outputs": [],
   "source": [
    "import sys\n",
    "import os\n",
    "sys.path.append(os.path.abspath(os.path.join(os.path.dirname(\"__init__\"), '..')))\n",
    "from src.utils import * \n",
    "from sklearn.model_selection import StratifiedKFold, cross_val_score\n",
    "import pandas as pd\n",
    "from sklearn.model_selection import train_test_split\n",
    "from sklearn.metrics import classification_report, confusion_matrix\n",
    "from imblearn.over_sampling import RandomOverSampler\n",
    "import matplotlib.pyplot as plt\n",
    "import seaborn as sns\n",
    "from sklearn.preprocessing import LabelEncoder\n",
    "from xgboost import XGBClassifier\n",
    "from sklearn.ensemble import RandomForestClassifier"
   ]
  },
  {
   "cell_type": "code",
   "execution_count": null,
   "id": "ea245819",
   "metadata": {},
   "outputs": [],
   "source": [
    "basePath = \"ECG_Database\"\n",
    "\n",
    "## List files and folders insade basePath\n",
    "patDir = sorted(\n",
    "    [f.path for f in os.scandir(basePath) if f.is_dir()],\n",
    "    key=lambda x: int(os.path.basename(x).replace(\"patient\", \"\"))  # Extraer el número de paciente\n",
    ")\n",
    "\n",
    "## Dictionary to store each patient's records\n",
    "patDict = {}\n",
    "\n",
    "#def generateName(i, extension):\n",
    "        #return f\"record{i:03d}{extension}\" \n",
    "\n",
    "for patient in patDir:\n",
    "    patID=os.path.basename(patient) # patID = directory name\n",
    "    archivos = os.listdir(patient)\n",
    "\n",
    "    # Create 3 lists, one for each file type \n",
    "    dat = [f for f in archivos if f.endswith(\".dat\")]\n",
    "    hea = [f for f in archivos if f.endswith(\".hea\")]\n",
    "    xyz = [f for f in archivos if f.endswith(\".xyz\")]\n",
    "\n",
    "    # Rename the files for clarity\n",
    "    \n",
    "    import os\n",
    "\n",
    "    # Agrupar los archivos por nombre base y asignarles un número secuencial\n",
    "    allFiles = []\n",
    "    \n",
    "    # Agrupar los archivos con el mismo nombre base\n",
    "    for f in dat + hea + xyz: \n",
    "        allFiles.append(f)  # Asignar el nuevo nombre\n",
    "\n",
    "    patDict[patID] = {\"files\": allFiles}"
   ]
  },
  {
   "cell_type": "code",
   "execution_count": null,
   "id": "e653346e",
   "metadata": {},
   "outputs": [],
   "source": [
    "for patient, data in patDict.items():\n",
    "    print(f\"Paciente: {patient}\")\n",
    "    \n",
    "    # Imprimir los archivos del paciente\n",
    "    if \"files\" in data:\n",
    "        print(\"Archivos:\", \", \".join(data[\"files\"]))\n",
    "    else:\n",
    "        print(\"No hay archivos registrados.\")\n",
    "    \n",
    "    print(\"-\" * 40)"
   ]
  },
  {
   "cell_type": "code",
   "execution_count": null,
   "id": "a40708f7",
   "metadata": {},
   "outputs": [],
   "source": [
    "allFeatures = {}\n",
    "\n",
    "for patient_id, data in patDict.items():\n",
    "    archivos = data[\"files\"]\n",
    "    dat_files = [f for f in archivos if f.endswith(\".dat\")]\n",
    "    \n",
    "    patient_features = {}  # Dict para todos los archivos de este paciente\n",
    "    \n",
    "    for archivo in dat_files:\n",
    "        features = extract_features(patient_id, archivo)\n",
    "        patient_features.update(features[patient_id])  # Extraemos solo el contenido interno\n",
    "    \n",
    "    allFeatures[patient_id] = patient_features"
   ]
  },
  {
   "cell_type": "code",
   "execution_count": null,
   "id": "ed6e7a81",
   "metadata": {},
   "outputs": [],
   "source": [
    "infarct=possible_infarct(\"patient001\", \"s0010_re.dat\", allFeatures)\n",
    "arrhythmia=possible_arrhythmia(\"patient001\", \"s0010_re.dat\", allFeatures)\n",
    "branch_block=possible_branch_block(\"patient001\", \"s0010_re.dat\", allFeatures)\n",
    "ventricular_hypertrophy=possible_ventricular_hypertrophy(\"patient001\", \"s0010_re.dat\", allFeatures)\n",
    "long_QT_syndrome=possible_long_QT_syndrome(\"patient001\", \"s0010_re.dat\", allFeatures)\n",
    "brugada_syndrome=possible_brugada_syndrome(\"patient001\", \"s0010_re.dat\", allFeatures)\n",
    "pericarditis=possible_pericarditis(\"patient001\", \"s0010_re.dat\", allFeatures)\n",
    "\n",
    "print(f\"possible_infarct:{infarct}, possible_arrhythmia:{arrhythmia}, possible_branch_block:{branch_block}, possible_ventricular_hypertrophy:{ventricular_hypertrophy}, possible_long_QT_syndrome:{long_QT_syndrome}, possible_brugada_syndrome:{brugada_syndrome}, possible_pericarditis:{pericarditis}\")"
   ]
  }
 ],
 "metadata": {
  "kernelspec": {
   "display_name": "bigdata",
   "language": "python",
   "name": "python3"
  },
  "language_info": {
   "codemirror_mode": {
    "name": "ipython",
    "version": 3
   },
   "file_extension": ".py",
   "mimetype": "text/x-python",
   "name": "python",
   "nbconvert_exporter": "python",
   "pygments_lexer": "ipython3",
   "version": "3.12.3"
  }
 },
 "nbformat": 4,
 "nbformat_minor": 5
}

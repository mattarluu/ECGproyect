{
 "cells": [
  {
   "cell_type": "code",
   "execution_count": null,
   "metadata": {},
   "outputs": [],
   "source": [
    "import wfdb\n",
    "import numpy as np\n",
    "import pandas as pd\n",
    "import glob\n",
    "import os\n",
    "from scipy.signal import resample"
   ]
  },
  {
   "cell_type": "code",
   "execution_count": 58,
   "metadata": {},
   "outputs": [],
   "source": [
    "# Code to load all the signals\n",
    "basePath=\"ECG_Database\"\n",
    "\n",
    "## List files and folders insade basePath\n",
    "patDir = sorted(\n",
    "    [f.path for f in os.scandir(basePath) if f.is_dir()],\n",
    "    key=lambda x: int(os.path.basename(x).replace(\"patient\", \"\"))  # Extraer el número de paciente\n",
    ")\n",
    "\n",
    "## Dictionary to store each patient's records\n",
    "patDict = {}\n",
    "\n",
    "def generateName(i, extension):\n",
    "        return f\"record{i:03d}{extension}\" \n",
    "\n",
    "for patient in patDir:\n",
    "    patID=os.path.basename(patient) # patID = directory name\n",
    "    archivos = os.listdir(patient)\n",
    "\n",
    "    # Create 3 lists, one for each file type \n",
    "    dat = [f for f in archivos if f.endswith(\".dat\")]\n",
    "    hea = [f for f in archivos if f.endswith(\".hea\")]\n",
    "    xyz = [f for f in archivos if f.endswith(\".xyz\")]\n",
    "\n",
    "    # Rename the files for clarity\n",
    "    \n",
    "    import os\n",
    "\n",
    "    # Agrupar los archivos por nombre base y asignarles un número secuencial\n",
    "    allFiles = []\n",
    "    \n",
    "    # Agrupar los archivos con el mismo nombre base\n",
    "    for f in dat + hea + xyz: \n",
    "        allFiles.append(f)  # Asignar el nuevo nombre\n",
    "\n",
    "    patDict[patID] = {\"files\": allFiles}\n"
   ]
  },
  {
   "cell_type": "code",
   "execution_count": null,
   "metadata": {},
   "outputs": [],
   "source": [
    "for patient, data in patDict.items():\n",
    "    print(f\"Paciente: {patient}\")\n",
    "    \n",
    "    # Imprimir los archivos del paciente\n",
    "    if \"files\" in data:\n",
    "        print(\"Archivos:\", \", \".join(data[\"files\"]))\n",
    "    else:\n",
    "        print(\"No hay archivos registrados.\")\n",
    "    \n",
    "    print(\"-\" * 40)"
   ]
  },
  {
   "cell_type": "code",
   "execution_count": 64,
   "metadata": {},
   "outputs": [
    {
     "name": "stdout",
     "output_type": "stream",
     "text": [
      "record001.hea\n",
      "record001.xyz\n"
     ]
    }
   ],
   "source": [
    "import os\n",
    "\n",
    "# Tomar un paciente específico\n",
    "patient_id = \"patient001\"  # Cambia esto para otro paciente si es necesario\n",
    "\n",
    "# Tomar el primer archivo renombrado de patDict (asumiendo que el archivo fue renombrado correctamente)\n",
    "file_path = patDict[patient_id][\"files\"][0]  # Tomamos el primer archivo renombrado, ejemplo: \"record001.dat\"\n",
    "\n",
    "#print(f\"📂 Ruta guardada en patDict: {file_path}\")\n",
    "\n",
    "# Extraer el nombre base (sin extensión)\n",
    "base_path = os.path.splitext(file_path)[0]  # Esto eliminará la extensión .dat o .hea o .xyz\n",
    "\n",
    "# Generar los archivos correspondientes a .hea y .dat\n",
    "hea_file = base_path + \".hea\"\n",
    "xyz_file = base_path + \".xyz\"\n",
    "print(f\"{hea_file}\")\n",
    "print(f\"{xyz_file}\")\n",
    "\n",
    "#print(f\"🔍 Buscando archivos: \\n - {hea_file}\\n - {dat_file}\")\n",
    "\n",
    "# Verificar si los archivos renombrados existen\n",
    "if os.path.exists(hea_file) and os.path.exists(xyz_file):\n",
    "    print(\"✅ Los archivos existen.\")\n",
    "#else:\n",
    "    #print(f\"❌ ERROR: No se encontraron los archivos necesarios.\\n  - {hea_file}\\n  - {dat_file}\")"
   ]
  },
  {
   "cell_type": "code",
   "execution_count": 32,
   "metadata": {},
   "outputs": [
    {
     "ename": "FileNotFoundError",
     "evalue": "[Errno 2] No such file or directory: '/home/mattinarluciaga/venv/bigdata/proyectoECG/record001.hea'",
     "output_type": "error",
     "traceback": [
      "\u001b[0;31m---------------------------------------------------------------------------\u001b[0m",
      "\u001b[0;31mFileNotFoundError\u001b[0m                         Traceback (most recent call last)",
      "Cell \u001b[0;32mIn[32], line 9\u001b[0m\n\u001b[1;32m      6\u001b[0m file_path \u001b[39m=\u001b[39m patDict[patient_id][\u001b[39m\"\u001b[39m\u001b[39mdat\u001b[39m\u001b[39m\"\u001b[39m][\u001b[39m0\u001b[39m]  \u001b[39m# Tomamos el primer ECG de este paciente\u001b[39;00m\n\u001b[1;32m      8\u001b[0m \u001b[39m# Leer el archivo de ECG (sin la extensión \".dat\")\u001b[39;00m\n\u001b[0;32m----> 9\u001b[0m record \u001b[39m=\u001b[39m wfdb\u001b[39m.\u001b[39;49mrdrecord(file_path[:\u001b[39m-\u001b[39;49m\u001b[39m4\u001b[39;49m])  \u001b[39m# Quitamos \".dat\" para que wfdb lo lea bien\u001b[39;00m\n\u001b[1;32m     11\u001b[0m \u001b[39m# Extraer la señal\u001b[39;00m\n\u001b[1;32m     12\u001b[0m signal \u001b[39m=\u001b[39m record\u001b[39m.\u001b[39mp_signal\n",
      "File \u001b[0;32m~/venv/bigdata/lib/python3.12/site-packages/wfdb/io/record.py:2029\u001b[0m, in \u001b[0;36mrdrecord\u001b[0;34m(record_name, sampfrom, sampto, channels, physical, pn_dir, m2s, smooth_frames, ignore_skew, return_res, force_channels, channel_names, warn_empty)\u001b[0m\n\u001b[1;32m   2024\u001b[0m     dir_list \u001b[39m=\u001b[39m pn_dir\u001b[39m.\u001b[39msplit(\u001b[39m\"\u001b[39m\u001b[39m/\u001b[39m\u001b[39m\"\u001b[39m)\n\u001b[1;32m   2025\u001b[0m     pn_dir \u001b[39m=\u001b[39m posixpath\u001b[39m.\u001b[39mjoin(\n\u001b[1;32m   2026\u001b[0m         dir_list[\u001b[39m0\u001b[39m], download\u001b[39m.\u001b[39mget_version(dir_list[\u001b[39m0\u001b[39m]), \u001b[39m*\u001b[39mdir_list[\u001b[39m1\u001b[39m:]\n\u001b[1;32m   2027\u001b[0m     )\n\u001b[0;32m-> 2029\u001b[0m record \u001b[39m=\u001b[39m rdheader(record_name, pn_dir\u001b[39m=\u001b[39;49mpn_dir, rd_segments\u001b[39m=\u001b[39;49m\u001b[39mFalse\u001b[39;49;00m)\n\u001b[1;32m   2031\u001b[0m \u001b[39m# Set defaults for sampto and channels input variables\u001b[39;00m\n\u001b[1;32m   2032\u001b[0m \u001b[39mif\u001b[39;00m sampto \u001b[39mis\u001b[39;00m \u001b[39mNone\u001b[39;00m:\n\u001b[1;32m   2033\u001b[0m     \u001b[39m# If the header does not contain the signal length, figure it\u001b[39;00m\n\u001b[1;32m   2034\u001b[0m     \u001b[39m# out from the first dat file. This is only possible for single\u001b[39;00m\n\u001b[1;32m   2035\u001b[0m     \u001b[39m# segment records. If there are no signals, sig_len is 0.\u001b[39;00m\n",
      "File \u001b[0;32m~/venv/bigdata/lib/python3.12/site-packages/wfdb/io/record.py:1839\u001b[0m, in \u001b[0;36mrdheader\u001b[0;34m(record_name, pn_dir, rd_segments)\u001b[0m\n\u001b[1;32m   1837\u001b[0m file_name \u001b[39m=\u001b[39m \u001b[39mf\u001b[39m\u001b[39m\"\u001b[39m\u001b[39m{\u001b[39;00mbase_record_name\u001b[39m}\u001b[39;00m\u001b[39m.hea\u001b[39m\u001b[39m\"\u001b[39m\n\u001b[1;32m   1838\u001b[0m \u001b[39mif\u001b[39;00m pn_dir \u001b[39mis\u001b[39;00m \u001b[39mNone\u001b[39;00m:\n\u001b[0;32m-> 1839\u001b[0m     \u001b[39mwith\u001b[39;00m \u001b[39mopen\u001b[39;49m(\n\u001b[1;32m   1840\u001b[0m         os\u001b[39m.\u001b[39;49mpath\u001b[39m.\u001b[39;49mjoin(dir_name, file_name),\n\u001b[1;32m   1841\u001b[0m         \u001b[39m\"\u001b[39;49m\u001b[39mr\u001b[39;49m\u001b[39m\"\u001b[39;49m,\n\u001b[1;32m   1842\u001b[0m         encoding\u001b[39m=\u001b[39;49m\u001b[39m\"\u001b[39;49m\u001b[39mascii\u001b[39;49m\u001b[39m\"\u001b[39;49m,\n\u001b[1;32m   1843\u001b[0m         errors\u001b[39m=\u001b[39;49m\u001b[39m\"\u001b[39;49m\u001b[39mignore\u001b[39;49m\u001b[39m\"\u001b[39;49m,\n\u001b[1;32m   1844\u001b[0m     ) \u001b[39mas\u001b[39;00m f:\n\u001b[1;32m   1845\u001b[0m         header_content \u001b[39m=\u001b[39m f\u001b[39m.\u001b[39mread()\n\u001b[1;32m   1846\u001b[0m \u001b[39melse\u001b[39;00m:\n",
      "\u001b[0;31mFileNotFoundError\u001b[0m: [Errno 2] No such file or directory: '/home/mattinarluciaga/venv/bigdata/proyectoECG/record001.hea'"
     ]
    }
   ],
   "source": [
    "import matplotlib.pyplot as plt\n",
    "import wfdb\n",
    "\n",
    "# Seleccionar un paciente y su primer archivo de ECG\n",
    "patient_id = \"patient001\"  # Cambia esto para otro paciente\n",
    "file_path = patDict[patient_id][\"dat\"][0]  # Tomamos el primer ECG de este paciente\n",
    "\n",
    "# Leer el archivo de ECG (sin la extensión \".dat\")\n",
    "record = wfdb.rdrecord(file_path[:-4])  # Quitamos \".dat\" para que wfdb lo lea bien\n",
    "\n",
    "# Extraer la señal\n",
    "signal = record.p_signal\n",
    "\n",
    "# Graficar la primera derivación (lead I)\n",
    "plt.plot(signal[:, 0])\n",
    "plt.title(f\"ECG - Primera Derivación ({patient_id})\")\n",
    "plt.xlabel(\"Tiempo (muestras)\")\n",
    "plt.ylabel(\"Amplitud\")\n",
    "plt.show()"
   ]
  }
 ],
 "metadata": {
  "kernelspec": {
   "display_name": "bigdata",
   "language": "python",
   "name": "python3"
  },
  "language_info": {
   "codemirror_mode": {
    "name": "ipython",
    "version": 3
   },
   "file_extension": ".py",
   "mimetype": "text/x-python",
   "name": "python",
   "nbconvert_exporter": "python",
   "pygments_lexer": "ipython3",
   "version": "3.12.3"
  },
  "orig_nbformat": 4
 },
 "nbformat": 4,
 "nbformat_minor": 2
}

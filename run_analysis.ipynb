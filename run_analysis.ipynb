{
 "cells": [
  {
   "cell_type": "code",
   "execution_count": 9,
   "id": "fbde3fcf",
   "metadata": {},
   "outputs": [],
   "source": [
    "import sys\n",
    "import os\n",
    "sys.path.append(os.path.abspath(os.path.join(os.path.dirname(\"__init__\"), '..')))\n",
    "from src.utils import * \n",
    "from sklearn.model_selection import StratifiedKFold, cross_val_score\n",
    "import pandas as pd\n",
    "from sklearn.model_selection import train_test_split\n",
    "from sklearn.metrics import classification_report, confusion_matrix\n",
    "from imblearn.over_sampling import RandomOverSampler\n",
    "import matplotlib.pyplot as plt\n",
    "import seaborn as sns\n",
    "from sklearn.preprocessing import LabelEncoder\n",
    "from xgboost import XGBClassifier\n",
    "\n",
    "from sklearn.model_selection import GridSearchCV"
   ]
  },
  {
   "cell_type": "markdown",
   "id": "dae1b719",
   "metadata": {},
   "source": [
    "Code to save all files in a diccionari: {\"patient_id\":{\"files\":[files]}}"
   ]
  },
  {
   "cell_type": "code",
   "execution_count": null,
   "id": "152eea8c",
   "metadata": {},
   "outputs": [],
   "source": [
    "basePath = \"ECG_Database\"\n",
    "\n",
    "patDir = sorted(\n",
    "    [f.path for f in os.scandir(basePath) if f.is_dir()],\n",
    "    key=lambda x: int(os.path.basename(x).replace(\"patient\", \"\"))  \n",
    ")\n",
    "\n",
    "patDict = {}\n",
    "\n",
    "\n",
    "for patient in patDir:\n",
    "    patID=os.path.basename(patient) \n",
    "    archivos = os.listdir(patient)\n",
    "\n",
    "\n",
    "    dat = [f for f in archivos if f.endswith(\".dat\")]\n",
    "    hea = [f for f in archivos if f.endswith(\".hea\")]\n",
    "    xyz = [f for f in archivos if f.endswith(\".xyz\")]\n",
    "\n",
    "    allFiles = []\n",
    "\n",
    "    for f in dat + hea + xyz: \n",
    "        allFiles.append(f) \n",
    "\n",
    "    patDict[patID] = {\"files\": allFiles}"
   ]
  },
  {
   "cell_type": "markdown",
   "id": "cf48937a",
   "metadata": {},
   "source": [
    "Optional: code to print all de previous diccionary, to check that everything is ok"
   ]
  },
  {
   "cell_type": "code",
   "execution_count": null,
   "id": "6b08053b",
   "metadata": {},
   "outputs": [],
   "source": [
    "for patient, data in patDict.items():\n",
    "    print(f\"Paciente: {patient}\")\n",
    "    \n",
    "    if \"files\" in data:\n",
    "        print(\"Archivos:\", \", \".join(data[\"files\"]))\n",
    "    else:\n",
    "        print(\"No hay archivos registrados.\")\n",
    "    \n",
    "    print(\"-\" * 40)"
   ]
  },
  {
   "cell_type": "markdown",
   "id": "102f4ffe",
   "metadata": {},
   "source": [
    "Code to extract all the characteristics of al the files and store them in another dictionary"
   ]
  },
  {
   "cell_type": "code",
   "execution_count": null,
   "id": "8ef21005",
   "metadata": {},
   "outputs": [],
   "source": [
    "allFeatures = {}\n",
    "\n",
    "for patient_id, data in patDict.items():\n",
    "    archivos = data[\"files\"]\n",
    "    dat_files = [f for f in archivos if f.endswith(\".dat\")]\n",
    "    \n",
    "    patient_features = {} \n",
    "    \n",
    "    for archivo in dat_files:\n",
    "        features = extract_features(patient_id, archivo)\n",
    "        patient_features.update(features[patient_id])  \n",
    "    \n",
    "    allFeatures[patient_id] = patient_features"
   ]
  },
  {
   "cell_type": "markdown",
   "id": "9bd28a42",
   "metadata": {},
   "source": [
    "Code to get a dataframe of the files an the \"possible disease\" of them"
   ]
  },
  {
   "cell_type": "code",
   "execution_count": null,
   "id": "dfce7b40",
   "metadata": {},
   "outputs": [],
   "source": [
    "df_disease=get_disease_df(allFeatures)\n",
    "df_disease.head()"
   ]
  },
  {
   "cell_type": "markdown",
   "id": "62d83cb3",
   "metadata": {},
   "source": [
    "Code to get a dataframe of all the features, instead a dictionary"
   ]
  },
  {
   "cell_type": "code",
   "execution_count": null,
   "id": "f5a037df",
   "metadata": {},
   "outputs": [],
   "source": [
    "df_features = features_dict_to_df(allFeatures)\n",
    "df_features.head()"
   ]
  },
  {
   "cell_type": "markdown",
   "id": "1ab2952c",
   "metadata": {},
   "source": [
    "Code of the model, a XGBOOST"
   ]
  },
  {
   "cell_type": "code",
   "execution_count": null,
   "id": "2be6efc0",
   "metadata": {},
   "outputs": [],
   "source": [
    "df_disease[\"ID\"] = df_disease[\"Patient\"] + \"/\" + df_disease[\"File\"]\n",
    "df_features[\"ID\"] = df_features[\"Patient\"] + \"/\" + df_features[\"File\"]\n",
    "\n",
    "#Join both DataFrames by \"ID\"\n",
    "df_final = pd.merge(df_features, df_disease[[\"ID\", \"Max_Label\"]], on=\"ID\")\n",
    "\n",
    "#Remove non-numeric or redundant columns\n",
    "X = df_final.select_dtypes(include=[\"number\", \"bool\"])\n",
    "y = df_final[\"Max_Label\"]\n",
    "\n",
    "# Checking for classes and null values\n",
    "print(\"Distribución original de clases:\")\n",
    "print(y.value_counts())\n",
    "print(\"\\nValores nulos en y:\", y.isnull().sum())\n",
    "\n",
    "ros = RandomOverSampler(random_state=42)\n",
    "X_res, y_res = ros.fit_resample(X, y)\n",
    "X_train_res, X_test_res, y_train_res, y_test_res = train_test_split(X_res, y_res, stratify=y_res, test_size=0.2, random_state=42)\n",
    "\n",
    "#We code the classes into numbers\n",
    "le = LabelEncoder()\n",
    "y_train_res_encoded = le.fit_transform(y_train_res)\n",
    "y_test_res_encoded = le.transform(y_test_res) \n",
    "\n",
    "#We train the model\n",
    "xgb_model = XGBClassifier(use_label_encoder=False, eval_metric='mlogloss', random_state=42)\n",
    "xgb_model.fit(X_train_res, y_train_res_encoded)\n",
    "y_pred_xgb = xgb_model.predict(X_test_res)\n",
    "\n",
    "#We decode the predictions so we can evaluate them with the original labels.\n",
    "y_pred_xgb_decoded = le.inverse_transform(y_pred_xgb)\n",
    "\n",
    "cv_scores = cross_val_score(xgb_model, X_train_res, y_train_res_encoded, cv=5, scoring='accuracy')\n",
    "\n",
    "#We show the performance of cross-validation\n",
    "print(f\"\\n📊 Resultados de Validación Cruzada:\")\n",
    "print(f\"Precisión promedio (CV): {cv_scores.mean():.4f}\")\n",
    "print(f\"Desviación estándar (CV): {cv_scores.std():.4f}\")\n",
    "\n",
    "#Classification report\n",
    "print(\"\\n📋 Clasificación con XGBoost:\")\n",
    "print(classification_report(y_test_res, y_pred_xgb_decoded))\n",
    "\n",
    "#confusion matrix\n",
    "plt.figure(figsize=(6,5))\n",
    "sns.heatmap(confusion_matrix(y_test_res, y_pred_xgb_decoded, labels=le.classes_), \n",
    "            annot=True, fmt='d', cmap='Oranges',\n",
    "            xticklabels=le.classes_, yticklabels=le.classes_)\n",
    "plt.title(\"Matriz de Confusión (XGBoost + Rebalanceado)\")\n",
    "plt.xlabel(\"Predicción\")\n",
    "plt.ylabel(\"Real\")"
   ]
  },
  {
   "cell_type": "markdown",
   "id": "dfcb1792",
   "metadata": {},
   "source": [
    "Code to get a plot of the importances of the features"
   ]
  },
  {
   "cell_type": "code",
   "execution_count": null,
   "id": "fc599f44",
   "metadata": {},
   "outputs": [],
   "source": [
    "importances = xgb_model.feature_importances_\n",
    "features = X.columns\n",
    "\n",
    "plt.figure(figsize=(10,6))\n",
    "sns.barplot(x=importances, y=features)\n",
    "plt.title(\"Feature importance - XGBoost\")\n",
    "plt.show()"
   ]
  }
 ],
 "metadata": {
  "kernelspec": {
   "display_name": "bigdata",
   "language": "python",
   "name": "python3"
  },
  "language_info": {
   "codemirror_mode": {
    "name": "ipython",
    "version": 3
   },
   "file_extension": ".py",
   "mimetype": "text/x-python",
   "name": "python",
   "nbconvert_exporter": "python",
   "pygments_lexer": "ipython3",
   "version": "3.12.3"
  }
 },
 "nbformat": 4,
 "nbformat_minor": 5
}

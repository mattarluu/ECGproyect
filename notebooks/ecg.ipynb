{
 "cells": [
  {
   "cell_type": "code",
   "execution_count": 6,
   "id": "b986680f",
   "metadata": {},
   "outputs": [],
   "source": [
    "import wfdb\n",
    "import numpy as np\n",
    "import pandas as pd\n",
    "import glob\n",
    "import os\n",
    "from scipy.signal import resample\n",
    "import matplotlib.pyplot as plt"
   ]
  },
  {
   "cell_type": "code",
   "execution_count": null,
   "id": "60d4ca22",
   "metadata": {},
   "outputs": [],
   "source": [
    "basePath=\"../ECG_Database\"\n",
    "patient_id = \"patient001\"\n",
    "file=\"s0010_re.dat\"\n",
    "patient_path = os.path.join(basePath, patient_id) \n",
    "file_path = os.path.join(patient_path, file)\n",
    "file_base = os.path.splitext(file_path)[0]  # Eliminar extensión .dat\n",
    "# Leer el archivo de ECG\n",
    "record = wfdb.rdrecord(file_base)\n",
    "# Extraer la señal\n",
    "signal = record.p_signal\n",
    "plt.plot(signal[:, 0])\n",
    "plt.title(f\"ECG -  File: {file} - Derivation {1} ({patient_id})\")\n",
    "plt.xlabel(\"Time (ms)\")\n",
    "plt.ylabel(\"Amplitude\")\n",
    "plt.show()"
   ]
  },
  {
   "cell_type": "code",
   "execution_count": null,
   "id": "d6c84808",
   "metadata": {},
   "outputs": [],
   "source": [
    "basePath=\"../ECG_Database\"\n",
    "patient_id = \"patient024\"\n",
    "file=\"s0083lre.dat\"\n",
    "patient_path = os.path.join(basePath, patient_id) \n",
    "file_path = os.path.join(patient_path, file)\n",
    "file_base = os.path.splitext(file_path)[0]  # Eliminar extensión .dat\n",
    "# Leer el archivo de ECG\n",
    "record = wfdb.rdrecord(file_base)\n",
    "# Extraer la señal\n",
    "signal = record.p_signal\n",
    "plt.plot(signal[:, 0])\n",
    "plt.title(f\"ECG -  File: {file} - Derivation {1} ({patient_id})\")\n",
    "plt.xlabel(\"Time (ms)\")\n",
    "plt.ylabel(\"Amplitude\")\n",
    "plt.show()"
   ]
  }
 ],
 "metadata": {
  "kernelspec": {
   "display_name": "bigdata",
   "language": "python",
   "name": "python3"
  },
  "language_info": {
   "codemirror_mode": {
    "name": "ipython",
    "version": 3
   },
   "file_extension": ".py",
   "mimetype": "text/x-python",
   "name": "python",
   "nbconvert_exporter": "python",
   "pygments_lexer": "ipython3",
   "version": "3.12.3"
  }
 },
 "nbformat": 4,
 "nbformat_minor": 5
}
